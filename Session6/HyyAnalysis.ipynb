{
 "cells": [
  {
   "cell_type": "markdown",
   "id": "6b63593a",
   "metadata": {},
   "source": [
    "# Session 6 : Rediscover the Higgs boson by yourself!\n",
    "\n",
    "## Welcome to the Session 6 !"
   ]
  },
  {
   "cell_type": "markdown",
   "id": "3da6fcb3",
   "metadata": {},
   "source": [
    "This analysis focuses on the groundbreaking discovery of the Higgs boson, the most significant finding to date at CERN, specifically using the ATLAS experiment!<br>\n",
    "The relevant paper is https://arxiv.org/pdf/1207.7214.pdf and we will follow mostly the Sections 5 and 5.1 ($H\\rightarrow \\gamma\\gamma$)"
   ]
  },
  {
   "cell_type": "markdown",
   "id": "5a59a311",
   "metadata": {},
   "source": [
    "Higgs boson decays into photon pairs (or Z$\\gamma$): <CENTER><img src=\"images/Higss_gamma_gamma.png\" style=\"width:70%\"></CENTER>"
   ]
  },
  {
   "cell_type": "markdown",
   "id": "6b5948ba",
   "metadata": {},
   "source": [
    "The search for the SM Higgs boson via the decay $H\\rightarrow \\gamma\\gamma$ focuses on the mass range of 110 GeV to 150 GeV. The primary background is SM diphoton production ($\\gamma\\gamma$), with additional contributions from $\\gamma$ +jet and jet+jet production where one or two jets are misidentified as photons ($\\gamma$j and jj), as well as from the Drell-Yan process.\n",
    "\n",
    "By the end of this exercise you will be able to:\n",
    "\n",
    "1. Rediscover the Higgs boson by yourself\n",
    "2. Understand some more advance principles of a particle physics analysis"
   ]
  },
  {
   "cell_type": "markdown",
   "id": "f6090ae8",
   "metadata": {},
   "source": [
    "## Using RDataFrame\n",
    "\n",
    "RDataFrame is a powerful data analysis framework provided by the ROOT software package. It allows users to efficiently analyze large datasets using a high-level interface in C++.\n",
    "\n",
    "RDataFrame operates on columnar data, where each column represents a variable or attribute of the dataset. It provides a declarative and functional approach to data analysis. Instead of writing explicit loops or iteration, users define a series of operations on the data, which are then applied to the entire dataset in a parallel and optimized manner.\n",
    "\n",
    "With RDataFrame, users can perform a wide range of operations on the data, such as filtering, selecting, transforming, and aggregating. \n",
    "\n",
    "Additionally, RDataFrame provides built-in support for multi-threading and distributed computing, allowing for efficient analysis of large datasets."
   ]
  },
  {
   "cell_type": "code",
   "execution_count": null,
   "id": "671816f8-ace8-48b5-96c2-640833426195",
   "metadata": {},
   "outputs": [],
   "source": [
    "import ROOT\n",
    "import os"
   ]
  },
  {
   "cell_type": "code",
   "execution_count": null,
   "id": "49d373fe-3a2a-47b4-a3cc-3e3ec93f9084",
   "metadata": {},
   "outputs": [],
   "source": [
    "# Enable multi-threading\n",
    "ROOT.ROOT.EnableImplicitMT()"
   ]
  },
  {
   "cell_type": "markdown",
   "id": "6e89ca59",
   "metadata": {},
   "source": [
    "### FIle path and samples for Data and MC"
   ]
  },
  {
   "cell_type": "code",
   "execution_count": null,
   "id": "70fe844f-6350-4baf-9b3e-5176a54452a2",
   "metadata": {},
   "outputs": [],
   "source": [
    "path = \"https://atlas-opendata.web.cern.ch/atlas-opendata/samples/2020/\"\n",
    "\n",
    "def get_data_samples():\n",
    "    samples = ROOT.std.vector(\"string\")()\n",
    "    for tag in [\"A\", \"B\", \"C\", \"D\"]:\n",
    "        samples.push_back(os.path.join(path, \"GamGam/Data/data_{}.GamGam.root\".format(tag)))\n",
    "    return samples\n",
    "\n",
    "def get_ggH125_samples():\n",
    "    samples = ROOT.std.vector(\"string\")()\n",
    "    samples.push_back(os.path.join(path, \"GamGam/MC/mc_343981.ggH125_gamgam.GamGam.root\"))\n",
    "    return samples"
   ]
  },
  {
   "cell_type": "markdown",
   "id": "b04e4eca",
   "metadata": {},
   "source": [
    "### Define dataframes using RDataFrame in ROOT"
   ]
  },
  {
   "cell_type": "code",
   "execution_count": null,
   "id": "a85a0e53-2ce2-4019-b98b-5645f8407ae2",
   "metadata": {},
   "outputs": [],
   "source": [
    "df = {}\n",
    "df[\"data\"] = ROOT.RDataFrame(\"mini\", get_data_samples())\n",
    "df[\"ggH\"] = ROOT.RDataFrame(\"mini\", get_ggH125_samples())\n",
    "processes = list(df.keys())"
   ]
  },
  {
   "cell_type": "code",
   "execution_count": null,
   "id": "85931e01-f477-4759-9aa0-07bd14e8a1fa",
   "metadata": {},
   "outputs": [],
   "source": [
    "# Apply scale factors and MC weight for simulated events and a weight of 1 for the data\n",
    "for p in [\"ggH\"]:\n",
    "    df[p] = df[p].Define(\"weight\", \"scaleFactor_PHOTON * scaleFactor_PhotonTRIGGER * scaleFactor_PILEUP * mcWeight\");\n",
    "df[\"data\"] = df[\"data\"].Define(\"weight\", \"1.0\")"
   ]
  },
  {
   "cell_type": "markdown",
   "id": "2635d6d2",
   "metadata": {},
   "source": [
    "### Apply preselections and cuts on the leptons\n",
    "\n",
    "1. Apply preselection cut on photon trigger\n",
    "2. Find two good muons with tight ID, pt > 25 GeV and not in the transition region between barrel and encap ($1.37\\leq |\\eta| \\leq 1.52$) and up to fiducial region $|\\eta| \\leq 2.37$\n",
    "3. Select isolated photons only: photon_ptcone30 / photon_pT < 0.065 and photon_etcone20 / photon_pT < 0.065"
   ]
  },
  {
   "cell_type": "code",
   "execution_count": null,
   "id": "e99d3c3d-95dd-41bd-89cb-1c424097a59b",
   "metadata": {},
   "outputs": [],
   "source": [
    "for p in processes:\n",
    "    # Apply preselection cut on photon trigger\n",
    "    df[p] = df[p].Filter(\"\") # Fill the line appropriately!!!\n",
    "\n",
    "    # Find two good muons with tight ID, pt > 25 GeV and not in the transition region between barrel and encap \n",
    "    # !!!Change the ? with the appropriate value\n",
    "    df[p] = df[p].Define(\"goodphotons\", \"photon_isTightID && (photon_pt > ?) && (abs(photon_eta) < ?) && ((abs(photon_eta) < ?) || (abs(photon_eta) > ?))\")\\\n",
    "                 .Filter(\"Sum(goodphotons) == 2\")\n",
    "\n",
    "    # Take only isolated photons\n",
    "    df[p] = df[p].Filter(\"Sum(photon_ptcone30[goodphotons] / photon_pt[goodphotons] < ? ) == 2\")\\\n",
    "                 .Filter(\"? < ? ) == 2\") # Fill the etcone isolation"
   ]
  },
  {
   "cell_type": "markdown",
   "id": "a2d206fa",
   "metadata": {},
   "source": [
    "### Declare the function that calculates the invariant mass (in C++ code) using the ROOT.gInterpreter"
   ]
  },
  {
   "cell_type": "code",
   "execution_count": null,
   "id": "2de8e946-3b4f-4985-9c2f-dd76eab7de77",
   "metadata": {},
   "outputs": [],
   "source": [
    "ROOT.gInterpreter.Declare(\n",
    "\"\"\"\n",
    "#include <math.h> // for M_PI\n",
    "using Vec_t = const ROOT::VecOps::RVec<float>;\n",
    "float ComputeInvariantMass(Vec_t& pt, Vec_t& eta, Vec_t& phi, Vec_t& e) {\n",
    "    float dphi = abs(phi[0] - phi[1]);\n",
    "    dphi = dphi < M_PI ? dphi : 2 * M_PI - dphi;\n",
    "    return sqrt(2 * pt[0] / 1000.0 * pt[1] / 1000.0 * (cosh(eta[0] - eta[1]) - cos(dphi)));\n",
    "}\n",
    "\"\"\");"
   ]
  },
  {
   "cell_type": "markdown",
   "id": "0c3c553a",
   "metadata": {},
   "source": [
    "**<font color='red'>Task - Homework</font>: Calculate the invariant mass with an alternative way utilizing the formula implemented in Session 2 (Z boson invariant mass)**"
   ]
  },
  {
   "cell_type": "code",
   "execution_count": null,
   "id": "fe176a32-5ae3-4127-8c49-069dbf897964",
   "metadata": {},
   "outputs": [],
   "source": [
    "hists = {}\n",
    "for p in processes:\n",
    "    # Make four vectors and compute invariant mass\n",
    "    df[p] = df[p].Define(\"m_yy\", \"ComputeInvariantMass(photon_pt[goodphotons], photon_eta[goodphotons], photon_phi[goodphotons], photon_E[goodphotons])\")\n",
    "\n",
    "    # Make additional kinematic cuts and select mass window\n",
    "    df[p] = df[p].Filter(\"photon_pt[goodphotons][0] / 1000.0 / m_yy > 0.35\")\\\n",
    "                 .Filter(\"photon_pt[goodphotons][1] / 1000.0 / m_yy > 0.25\")\\\n",
    "                 .Filter(\"(m_yy > 105) && (m_yy < 160)\")\n",
    "\n",
    "    # Book histogram of the invariant mass with this selection\n",
    "    hists[p] = df[p].Histo1D(\n",
    "            ROOT.ROOT.RDF.TH1DModel(p, \"Diphoton invariant mass; m_{#gamma#gamma} [GeV];Events / bin\", 30, 105, 160),\n",
    "            \"m_yy\", \"weight\")"
   ]
  },
  {
   "cell_type": "code",
   "execution_count": null,
   "id": "00b2a91b-8c8a-4d85-94f0-ef1d5306d725",
   "metadata": {},
   "outputs": [],
   "source": [
    "# Run the event loop\n",
    "ggh = hists[\"ggH\"].GetValue()\n",
    "data = hists[\"data\"].GetValue()"
   ]
  },
  {
   "cell_type": "markdown",
   "id": "6e898087",
   "metadata": {},
   "source": [
    "### Fitting and plotting\n",
    "\n",
    "After making the histograms we need to fit the data to signal and background processes. For this we are using a fit model that compines a 3rd order polynomial (for the Background) and a gaussian distribution (for the signal). \n",
    "\n",
    "**The fitting procedure is described in details in the next cell.**"
   ]
  },
  {
   "cell_type": "code",
   "execution_count": null,
   "id": "0650b6ad-04cd-4a00-ae9f-8af1f3dbcf6c",
   "metadata": {},
   "outputs": [],
   "source": [
    "# Set styles\n",
    "ROOT.gStyle.SetOptStat(0)\n",
    "ROOT.gStyle.SetOptTitle(0)\n",
    "ROOT.gStyle.SetMarkerStyle(20)\n",
    "ROOT.gStyle.SetMarkerSize(1.2)\n",
    "size = 0.08\n",
    "ROOT.gStyle.SetLabelSize(size, \"x\")\n",
    "ROOT.gStyle.SetLabelSize(size, \"y\")\n",
    "ROOT.gStyle.SetTitleSize(size, \"x\")\n",
    "ROOT.gStyle.SetTitleSize(size, \"y\")\n",
    "\n",
    "# Create canvas with pads for main plot and data/MC ratio\n",
    "c = ROOT.TCanvas(\"c\", \"\", 700, 750)\n",
    "\n",
    "upper_pad = ROOT.TPad(\"upper_pad\", \"\", 0, 0.29, 1, 1)\n",
    "lower_pad = ROOT.TPad(\"lower_pad\", \"\", 0, 0, 1, 0.29)\n",
    "for p in [upper_pad, lower_pad]:\n",
    "    p.SetLeftMargin(0.14)\n",
    "    p.SetRightMargin(0.05)\n",
    "upper_pad.SetBottomMargin(0)\n",
    "lower_pad.SetTopMargin(0)\n",
    "\n",
    "upper_pad.Draw()\n",
    "lower_pad.Draw()\n",
    "\n",
    "data.SetStats(0)\n",
    "data.SetTitle(\"\")\n",
    "\n",
    "# Fit signal + background model to data\n",
    "upper_pad.cd()\n",
    "fit = ROOT.TF1(\"fit\", \"([0]+[1]*x+[2]*x^2+[3]*x^3)+[4]*exp(-0.5*((x-[5])/[6])^2)\", 105, 160)\n",
    "fit.FixParameter(5, 125.0)\n",
    "fit.FixParameter(4, 119.1)\n",
    "fit.FixParameter(6, 2.39)\n",
    "data.Fit(\"fit\", \"\", \"E SAME\", 105, 160)\n",
    "fit.SetLineColor(2)\n",
    "fit.SetLineStyle(1)\n",
    "fit.SetLineWidth(2)\n",
    "fit.Draw(\"SAME\")\n",
    "\n",
    "# Draw background\n",
    "bkg = ROOT.TF1(\"bkg\", \"([0]+[1]*x+[2]*x^2+[3]*x^3)\", 105, 160)\n",
    "for i in range(4):\n",
    "    bkg.SetParameter(i, fit.GetParameter(i))\n",
    "bkg.SetLineColor(4)\n",
    "bkg.SetLineStyle(2)\n",
    "bkg.SetLineWidth(2)\n",
    "bkg.Draw(\"SAME\")\n",
    "\n",
    "# Draw data\n",
    "data.SetMarkerStyle(20)\n",
    "data.SetMarkerSize(1.2)\n",
    "data.SetLineWidth(2)\n",
    "data.SetLineColor(ROOT.kBlack)\n",
    "data.Draw(\"E SAME\")\n",
    "data.SetMinimum(1e-3)\n",
    "data.SetMaximum(8e3)\n",
    "\n",
    "# Scale simulated events with luminosity * cross-section / sum of weights\n",
    "# and merge to single Higgs signal\n",
    "lumi = 10064.0 # in pb^-1\n",
    "ggh.Scale(lumi * 0.102 / ggh.Integral())\n",
    "higgs = ggh\n",
    "higgs.Draw(\"HIST SAME\")\n",
    "\n",
    "# Draw ratio\n",
    "lower_pad.cd()\n",
    "\n",
    "ratiofit = ROOT.TH1F(\"ratiofit\", \"ratiofit\", 5500, 105, 160)\n",
    "ratiofit.Eval(fit)\n",
    "ratiofit.SetLineColor(2)\n",
    "ratiofit.SetLineStyle(1)\n",
    "ratiofit.SetLineWidth(2)\n",
    "ratiofit.Add(bkg, -1)\n",
    "ratiofit.Draw()\n",
    "ratiofit.SetMinimum(-150)\n",
    "ratiofit.SetMaximum(225)\n",
    "ratiofit.GetYaxis().SetTitle(\"Data - bkg\")\n",
    "ratiofit.GetYaxis().CenterTitle()\n",
    "ratiofit.GetYaxis().SetNdivisions(503, False)\n",
    "ratiofit.SetTitle(\"\")\n",
    "ratiofit.GetXaxis().SetTitle(\"m_{#gamma#gamma} [GeV]\")\n",
    "\n",
    "ratio = data.Clone()\n",
    "ratio.Add(bkg, -1)\n",
    "ratio.Draw(\"E SAME\")\n",
    "for i in range(1, data.GetNbinsX()):\n",
    "    ratio.SetBinError(i, data.GetBinError(i))\n",
    "\n",
    "# Add legend\n",
    "upper_pad.cd()\n",
    "legend = ROOT.TLegend(0.60, 0.55, 0.89, 0.85)\n",
    "legend.SetFillStyle(0)\n",
    "legend.SetBorderSize(0)\n",
    "legend.SetTextSize(0.05)\n",
    "legend.SetTextAlign(32)\n",
    "legend.AddEntry(data, \"Data\" ,\"lep\")\n",
    "legend.AddEntry(bkg, \"Background\", \"l\")\n",
    "legend.AddEntry(fit, \"Signal + Bkg.\", \"l\")\n",
    "legend.AddEntry(higgs, \"Signal\", \"l\")\n",
    "legend.Draw(\"SAME\")\n",
    "\n",
    "# Add ATLAS label\n",
    "text = ROOT.TLatex()\n",
    "text.SetNDC()\n",
    "text.SetTextFont(72)\n",
    "text.SetTextSize(0.05)\n",
    "text.DrawLatex(0.18, 0.84, \"ATLAS\")\n",
    "\n",
    "text.SetTextFont(42)\n",
    "text.DrawLatex(0.18 + 0.13, 0.84, \"Open Data\")\n",
    "\n",
    "text.SetTextSize(0.04)\n",
    "text.DrawLatex(0.18, 0.78, \"#sqrt{s} = 13 TeV, 10 fb^{-1}\");"
   ]
  },
  {
   "cell_type": "code",
   "execution_count": null,
   "id": "0afbbc97-c65a-4d36-b58b-1980050d0f5d",
   "metadata": {},
   "outputs": [],
   "source": [
    "%jsroot on\n",
    "c.Draw()"
   ]
  },
  {
   "cell_type": "markdown",
   "id": "6181ca72",
   "metadata": {},
   "source": [
    "# **<font color='red'>Tasks - Homework</font> :** \n",
    "### 1) Compare the output histogram with the one from the paper. Try to explain the differences, if they are any.\n",
    "### 2) Decrease the fraction of data and check the impact of the lower stats. NB: For MC, you should also change the lumi value during the normalization procedure:\n",
    "lumi = 0.5 #fb-1 # data_A only\n",
    "\n",
    "lumi = 1.9 # fb-1 # data_B only\n",
    "\n",
    "lumi = 2.9 # fb-1 # data_C only\n",
    "\n",
    "lumi = 4.7 # fb-1 # data_D only\n",
    "\n",
    "lumi = 10 # fb-1 # data_A,data_B,data_C,data_D\n",
    "### 3) Optimize the cuts by looking the paper mention at the beginning\n",
    "### 4) Find chi-squared for the fit\n",
    "### 5) Find the mean and the width of the fitted Gaussian\n",
    "### 6) Explore different initial guesses for the parameters of the fit\n",
    "### 7) Try different functions for the fit\n",
    "\n",
    "\n"
   ]
  }
 ],
 "metadata": {
  "kernelspec": {
   "display_name": "Python 3 (ipykernel)",
   "language": "python",
   "name": "python3"
  },
  "language_info": {
   "codemirror_mode": {
    "name": "ipython",
    "version": 3
   },
   "file_extension": ".py",
   "mimetype": "text/x-python",
   "name": "python",
   "nbconvert_exporter": "python",
   "pygments_lexer": "ipython3",
   "version": "3.10.4"
  }
 },
 "nbformat": 4,
 "nbformat_minor": 5
}
